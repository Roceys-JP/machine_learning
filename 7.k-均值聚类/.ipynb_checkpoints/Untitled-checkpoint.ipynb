{
 "cells": [
  {
   "cell_type": "code",
   "execution_count": 1,
   "metadata": {
    "collapsed": false
   },
   "outputs": [
    {
     "name": "stdout",
     "output_type": "stream",
     "text": [
      "step 1: load data...\n",
      "step 2: clustering...\n"
     ]
    }
   ],
   "source": [
    "#coding:utf-8\n",
    "from numpy import *\n",
    "import time\n",
    "import matplotlib.pyplot as plt\n",
    "print \"step 1: load data...\"\n",
    "dataSet = []\n",
    "fileIn = open('./data.txt')\n",
    "for line in fileIn.readlines():\n",
    "    lineArr = line.strip().split(' ')\n",
    "    # Python strip() 方法用于移除字符串头尾指定的字符（默认为空格）\n",
    "    # 再按照数据之间的空格作为分隔符。\n",
    "    dataSet.append([float(lineArr[0]), float(lineArr[1])])\n",
    "    # 返回加入到dataset中的每组数据为一个列表。形成二维数组\n",
    "    ## step 2: 开始聚类...\n",
    "print \"step 2: clustering...\"\n",
    "dataSet = mat(dataSet)\n"
   ]
  },
  {
   "cell_type": "code",
   "execution_count": 4,
   "metadata": {
    "collapsed": false
   },
   "outputs": [
    {
     "name": "stdout",
     "output_type": "stream",
     "text": [
      "111\n"
     ]
    }
   ],
   "source": [
    "numSamples = dataSet.shape[0]\n",
    "print numSamples"
   ]
  },
  {
   "cell_type": "code",
   "execution_count": 11,
   "metadata": {
    "collapsed": false
   },
   "outputs": [
    {
     "name": "stdout",
     "output_type": "stream",
     "text": [
      "[22.326952450450445, 114.25989384684684] [[22.326952450450445, 114.25989384684684]]\n"
     ]
    }
   ],
   "source": [
    "clusterAssment = mat(zeros((numSamples, 2)))\n",
    "#print clusterAssment\n",
    "centroid = mean(dataSet, axis = 0).tolist()[0] \n",
    "centList = [centroid]\n",
    "print centroid,centList"
   ]
  },
  {
   "cell_type": "code",
   "execution_count": 10,
   "metadata": {
    "collapsed": false
   },
   "outputs": [
    {
     "data": {
      "text/plain": [
       "matrix([[  22.32695245,  114.25989385]])"
      ]
     },
     "execution_count": 10,
     "metadata": {},
     "output_type": "execute_result"
    }
   ],
   "source": [
    "mean(dataSet, axis = 0)"
   ]
  },
  {
   "cell_type": "code",
   "execution_count": 12,
   "metadata": {
    "collapsed": true
   },
   "outputs": [],
   "source": [
    "def euclDistance(vector1, vector2):\n",
    "    return sqrt(sum(power(vector2 - vector1, 2)))"
   ]
  },
  {
   "cell_type": "code",
   "execution_count": 13,
   "metadata": {
    "collapsed": false
   },
   "outputs": [
    {
     "ename": "SyntaxError",
     "evalue": "invalid syntax (<ipython-input-13-077a4433d1b5>, line 2)",
     "output_type": "error",
     "traceback": [
      "\u001b[0;36m  File \u001b[0;32m\"<ipython-input-13-077a4433d1b5>\"\u001b[0;36m, line \u001b[0;32m2\u001b[0m\n\u001b[0;31m    print clusterAssment[i, 1] = euclDistance(mat(centroid), dataSet[i, :])**2\u001b[0m\n\u001b[0m                               ^\u001b[0m\n\u001b[0;31mSyntaxError\u001b[0m\u001b[0;31m:\u001b[0m invalid syntax\n"
     ]
    }
   ],
   "source": [
    "i = 0\n",
    "clusterAssment[i, 1] = euclDistance(mat(centroid), dataSet[i, :])**2\n",
    "print clusterAssment[i,1]"
   ]
  },
  {
   "cell_type": "code",
   "execution_count": null,
   "metadata": {
    "collapsed": true
   },
   "outputs": [],
   "source": []
  }
 ],
 "metadata": {
  "anaconda-cloud": {},
  "kernelspec": {
   "display_name": "Python [conda root]",
   "language": "python",
   "name": "conda-root-py"
  },
  "language_info": {
   "codemirror_mode": {
    "name": "ipython",
    "version": 2
   },
   "file_extension": ".py",
   "mimetype": "text/x-python",
   "name": "python",
   "nbconvert_exporter": "python",
   "pygments_lexer": "ipython2",
   "version": "2.7.12"
  }
 },
 "nbformat": 4,
 "nbformat_minor": 1
}
