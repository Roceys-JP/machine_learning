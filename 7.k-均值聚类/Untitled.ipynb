{
 "cells": [
  {
   "cell_type": "code",
   "execution_count": 1,
   "metadata": {
    "collapsed": false
   },
   "outputs": [
    {
     "name": "stdout",
     "output_type": "stream",
     "text": [
      "step 1: load data...\n",
      "step 2: clustering...\n"
     ]
    }
   ],
   "source": [
    "#coding:utf-8\n",
    "from numpy import *\n",
    "import time\n",
    "import matplotlib.pyplot as plt\n",
    "print \"step 1: load data...\"\n",
    "dataSet = []\n",
    "fileIn = open('./data.txt')\n",
    "for line in fileIn.readlines():\n",
    "    lineArr = line.strip().split(' ')\n",
    "    # Python strip() 方法用于移除字符串头尾指定的字符（默认为空格）\n",
    "    # 再按照数据之间的空格作为分隔符。\n",
    "    dataSet.append([float(lineArr[0]), float(lineArr[1])])\n",
    "    # 返回加入到dataset中的每组数据为一个列表。形成二维数组\n",
    "    ## step 2: 开始聚类...\n",
    "print \"step 2: clustering...\"\n",
    "dataSet = mat(dataSet)\n"
   ]
  },
  {
   "cell_type": "code",
   "execution_count": 4,
   "metadata": {
    "collapsed": false
   },
   "outputs": [
    {
     "name": "stdout",
     "output_type": "stream",
     "text": [
      "111\n"
     ]
    }
   ],
   "source": [
    "numSamples = dataSet.shape[0]\n",
    "print numSamples"
   ]
  },
  {
   "cell_type": "code",
   "execution_count": 11,
   "metadata": {
    "collapsed": false
   },
   "outputs": [
    {
     "name": "stdout",
     "output_type": "stream",
     "text": [
      "[22.326952450450445, 114.25989384684684] [[22.326952450450445, 114.25989384684684]]\n"
     ]
    }
   ],
   "source": [
    "clusterAssment = mat(zeros((numSamples, 2)))\n",
    "#print clusterAssment\n",
    "centroid = mean(dataSet, axis = 0).tolist()[0] \n",
    "centList = [centroid]\n",
    "print centroid,centList"
   ]
  },
  {
   "cell_type": "code",
   "execution_count": 10,
   "metadata": {
    "collapsed": false
   },
   "outputs": [
    {
     "data": {
      "text/plain": [
       "matrix([[  22.32695245,  114.25989385]])"
      ]
     },
     "execution_count": 10,
     "metadata": {},
     "output_type": "execute_result"
    }
   ],
   "source": [
    "mean(dataSet, axis = 0)"
   ]
  },
  {
   "cell_type": "code",
   "execution_count": 12,
   "metadata": {
    "collapsed": true
   },
   "outputs": [],
   "source": [
    "def euclDistance(vector1, vector2):\n",
    "    return sqrt(sum(power(vector2 - vector1, 2)))"
   ]
  },
  {
   "cell_type": "code",
   "execution_count": 14,
   "metadata": {
    "collapsed": false
   },
   "outputs": [
    {
     "name": "stdout",
     "output_type": "stream",
     "text": [
      "2.01540234345e-06\n"
     ]
    }
   ],
   "source": [
    "i = 0\n",
    "clusterAssment[i, 1] = euclDistance(mat(centroid), dataSet[i, :])**2\n",
    "print clusterAssment[i,1]"
   ]
  },
  {
   "cell_type": "code",
   "execution_count": 16,
   "metadata": {
    "collapsed": false
   },
   "outputs": [
    {
     "name": "stdout",
     "output_type": "stream",
     "text": [
      "[[  22.32695245  114.25989385]] [[  22.325637  114.25936 ]]\n"
     ]
    }
   ],
   "source": [
    "print mat(centroid), dataSet[i, :]"
   ]
  },
  {
   "cell_type": "code",
   "execution_count": 21,
   "metadata": {
    "collapsed": false
   },
   "outputs": [
    {
     "data": {
      "text/plain": [
       "matrix([[  22.325637,  114.25936 ],\n",
       "        [  22.325522,  114.259091],\n",
       "        [  22.328594,  114.256648],\n",
       "        [  22.326738,  114.258885],\n",
       "        [  22.327576,  114.259765],\n",
       "        [  22.326518,  114.258867],\n",
       "        [  22.327902,  114.258553],\n",
       "        [  22.326009,  114.26139 ],\n",
       "        [  22.326913,  114.260276],\n",
       "        [  22.325576,  114.258705],\n",
       "        [  22.325306,  114.259585],\n",
       "        [  22.326734,  114.260088],\n",
       "        [  22.327254,  114.259307],\n",
       "        [  22.326153,  114.261462],\n",
       "        [  22.327626,  114.260851],\n",
       "        [  22.330667,  114.244421],\n",
       "        [  22.32664 ,  114.260995],\n",
       "        [  22.326782,  114.260582],\n",
       "        [  22.32827 ,  114.258192],\n",
       "        [  22.32633 ,  114.260124],\n",
       "        [  22.326475,  114.25813 ],\n",
       "        [  22.326171,  114.261507],\n",
       "        [  22.325451,  114.259917],\n",
       "        [  22.32666 ,  114.260438],\n",
       "        [  22.325501,  114.260816],\n",
       "        [  22.326491,  114.261767],\n",
       "        [  22.327062,  114.258723],\n",
       "        [  22.324908,  114.259917],\n",
       "        [  22.326339,  114.259307],\n",
       "        [  22.329873,  114.254995],\n",
       "        [  22.327774,  114.258974],\n",
       "        [  22.325601,  114.261219],\n",
       "        [  22.32685 ,  114.260007],\n",
       "        [  22.328725,  114.259261],\n",
       "        [  22.32665 ,  114.260295],\n",
       "        [  22.32678 ,  114.259109],\n",
       "        [  22.327934,  114.25918 ],\n",
       "        [  22.325692,  114.25919 ],\n",
       "        [  22.327478,  114.259235],\n",
       "        [  22.328124,  114.259998],\n",
       "        [  22.327285,  114.259666],\n",
       "        [  22.326412,  114.26077 ],\n",
       "        [  22.324404,  114.259226],\n",
       "        [  22.326499,  114.259747],\n",
       "        [  22.326897,  114.259702],\n",
       "        [  22.326652,  114.26051 ],\n",
       "        [  22.326763,  114.2591  ],\n",
       "        [  22.328616,  114.259333],\n",
       "        [  22.327009,  114.259135],\n",
       "        [  22.325293,  114.259656],\n",
       "        [  22.326703,  114.26148 ],\n",
       "        [  22.327476,  114.260887],\n",
       "        [  22.326683,  114.260178],\n",
       "        [  22.325873,  114.260025],\n",
       "        [  22.326021,  114.259773],\n",
       "        [  22.330137,  114.271684],\n",
       "        [  22.327747,  114.259666],\n",
       "        [  22.32663 ,  114.259917],\n",
       "        [  22.325356,  114.259665],\n",
       "        [  22.332427,  114.271569],\n",
       "        [  22.328334,  114.259765],\n",
       "        [  22.32826 ,  114.258534],\n",
       "        [  22.325887,  114.260205],\n",
       "        [  22.327511,  114.260861],\n",
       "        [  22.325976,  114.260061],\n",
       "        [  22.324648,  114.262522],\n",
       "        [  22.32682 ,  114.259001],\n",
       "        [  22.328233,  114.257573],\n",
       "        [  22.326425,  114.25936 ],\n",
       "        [  22.324323,  114.259271],\n",
       "        [  22.345495,  114.271745],\n",
       "        [  22.326272,  114.259369],\n",
       "        [  22.326926,  114.260384],\n",
       "        [  22.325829,  114.259064],\n",
       "        [  22.327035,  114.259621],\n",
       "        [  22.327403,  114.260304],\n",
       "        [  22.32602 ,  114.259307],\n",
       "        [  22.328006,  114.257915],\n",
       "        [  22.326941,  114.258902],\n",
       "        [  22.326178,  114.259719],\n",
       "        [  22.325066,  114.259881],\n",
       "        [  22.327026,  114.259773],\n",
       "        [  22.328262,  114.258839],\n",
       "        [  22.325733,  114.259576],\n",
       "        [  22.326863,  114.260474],\n",
       "        [  22.3272  ,  114.259405],\n",
       "        [  22.325239,  114.259665],\n",
       "        [  22.32661 ,  114.258867],\n",
       "        [  22.326836,  114.260474],\n",
       "        [  22.326965,  114.259307],\n",
       "        [  22.327682,  114.258876],\n",
       "        [  22.326395,  114.259253],\n",
       "        [  22.328391,  114.259262],\n",
       "        [  22.326454,  114.259073],\n",
       "        [  22.32651 ,  114.260941],\n",
       "        [  22.326178,  114.261552],\n",
       "        [  22.327906,  114.259746],\n",
       "        [  22.327461,  114.260744],\n",
       "        [  22.328479,  114.259252],\n",
       "        [  22.325658,  114.259145],\n",
       "        [  22.327973,  114.259989],\n",
       "        [  22.326891,  114.25884 ],\n",
       "        [  22.326271,  114.261489],\n",
       "        [  22.326677,  114.260474],\n",
       "        [  22.325723,  114.25936 ],\n",
       "        [  22.324362,  114.261309],\n",
       "        [  22.325201,  114.259909],\n",
       "        [  22.325054,  114.259504],\n",
       "        [  22.32641 ,  114.259315],\n",
       "        [  22.32508 ,  114.259037],\n",
       "        [  22.326475,  114.260582]])"
      ]
     },
     "execution_count": 21,
     "metadata": {},
     "output_type": "execute_result"
    }
   ],
   "source": [
    "dataSet[nonzero(clusterAssment[:, 0].A == i)[0], :]\n",
    "#clusterAssment[:, 0].A"
   ]
  },
  {
   "cell_type": "code",
   "execution_count": null,
   "metadata": {
    "collapsed": true
   },
   "outputs": [],
   "source": []
  }
 ],
 "metadata": {
  "anaconda-cloud": {},
  "kernelspec": {
   "display_name": "Python [conda root]",
   "language": "python",
   "name": "conda-root-py"
  },
  "language_info": {
   "codemirror_mode": {
    "name": "ipython",
    "version": 2
   },
   "file_extension": ".py",
   "mimetype": "text/x-python",
   "name": "python",
   "nbconvert_exporter": "python",
   "pygments_lexer": "ipython2",
   "version": "2.7.12"
  }
 },
 "nbformat": 4,
 "nbformat_minor": 1
}
