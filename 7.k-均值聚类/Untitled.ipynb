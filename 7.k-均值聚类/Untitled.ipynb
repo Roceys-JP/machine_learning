{
 "cells": [
  {
   "cell_type": "code",
   "execution_count": 1,
   "metadata": {
    "collapsed": false
   },
   "outputs": [
    {
     "name": "stdout",
     "output_type": "stream",
     "text": [
      "step 1: load data...\n",
      "step 2: clustering...\n"
     ]
    }
   ],
   "source": [
    "#coding:utf-8\n",
    "from numpy import *\n",
    "import time\n",
    "import matplotlib.pyplot as plt\n",
    "print \"step 1: load data...\"\n",
    "dataSet = []\n",
    "fileIn = open('./data.txt')\n",
    "for line in fileIn.readlines():\n",
    "    lineArr = line.strip().split(' ')\n",
    "    # Python strip() 方法用于移除字符串头尾指定的字符（默认为空格）\n",
    "    # 再按照数据之间的空格作为分隔符。\n",
    "    dataSet.append([float(lineArr[0]), float(lineArr[1])])\n",
    "    # 返回加入到dataset中的每组数据为一个列表。形成二维数组\n",
    "    ## step 2: 开始聚类...\n",
    "print \"step 2: clustering...\"\n",
    "dataSet = mat(dataSet)\n"
   ]
  },
  {
   "cell_type": "code",
   "execution_count": 4,
   "metadata": {
    "collapsed": false
   },
   "outputs": [
    {
     "name": "stdout",
     "output_type": "stream",
     "text": [
      "111\n"
     ]
    }
   ],
   "source": [
    "numSamples = dataSet.shape[0]\n",
    "print numSamples"
   ]
  },
  {
   "cell_type": "code",
   "execution_count": 11,
   "metadata": {
    "collapsed": false
   },
   "outputs": [
    {
     "name": "stdout",
     "output_type": "stream",
     "text": [
      "[22.326952450450445, 114.25989384684684] [[22.326952450450445, 114.25989384684684]]\n"
     ]
    }
   ],
   "source": [
    "clusterAssment = mat(zeros((numSamples, 2)))\n",
    "#print clusterAssment\n",
    "centroid = mean(dataSet, axis = 0).tolist()[0] \n",
    "centList = [centroid]\n",
    "print centroid,centList"
   ]
  },
  {
   "cell_type": "code",
   "execution_count": 10,
   "metadata": {
    "collapsed": false
   },
   "outputs": [
    {
     "data": {
      "text/plain": [
       "matrix([[  22.32695245,  114.25989385]])"
      ]
     },
     "execution_count": 10,
     "metadata": {},
     "output_type": "execute_result"
    }
   ],
   "source": [
    "mean(dataSet, axis = 0)"
   ]
  },
  {
   "cell_type": "code",
   "execution_count": 12,
   "metadata": {
    "collapsed": true
   },
   "outputs": [],
   "source": [
    "def euclDistance(vector1, vector2):\n",
    "    return sqrt(sum(power(vector2 - vector1, 2)))"
   ]
  },
  {
   "cell_type": "code",
   "execution_count": 14,
   "metadata": {
    "collapsed": false
   },
   "outputs": [
    {
     "name": "stdout",
     "output_type": "stream",
     "text": [
      "2.01540234345e-06\n"
     ]
    }
   ],
   "source": [
    "i = 0\n",
    "clusterAssment[i, 1] = euclDistance(mat(centroid), dataSet[i, :])**2\n",
    "print clusterAssment[i,1]"
   ]
  },
  {
   "cell_type": "code",
   "execution_count": 16,
   "metadata": {
    "collapsed": false
   },
   "outputs": [
    {
     "name": "stdout",
     "output_type": "stream",
     "text": [
      "[[  22.32695245  114.25989385]] [[  22.325637  114.25936 ]]\n"
     ]
    }
   ],
   "source": [
    "print mat(centroid), dataSet[i, :]"
   ]
  },
  {
   "cell_type": "code",
   "execution_count": 21,
   "metadata": {
    "collapsed": false
   },
   "outputs": [
    {
     "data": {
      "text/plain": [
       "matrix([[  22.325637,  114.25936 ],\n",
       "        [  22.325522,  114.259091],\n",
       "        [  22.328594,  114.256648],\n",
       "        [  22.326738,  114.258885],\n",
       "        [  22.327576,  114.259765],\n",
       "        [  22.326518,  114.258867],\n",
       "        [  22.327902,  114.258553],\n",
       "        [  22.326009,  114.26139 ],\n",
       "        [  22.326913,  114.260276],\n",
       "        [  22.325576,  114.258705],\n",
       "        [  22.325306,  114.259585],\n",
       "        [  22.326734,  114.260088],\n",
       "        [  22.327254,  114.259307],\n",
       "        [  22.326153,  114.261462],\n",
       "        [  22.327626,  114.260851],\n",
       "        [  22.330667,  114.244421],\n",
       "        [  22.32664 ,  114.260995],\n",
       "        [  22.326782,  114.260582],\n",
       "        [  22.32827 ,  114.258192],\n",
       "        [  22.32633 ,  114.260124],\n",
       "        [  22.326475,  114.25813 ],\n",
       "        [  22.326171,  114.261507],\n",
       "        [  22.325451,  114.259917],\n",
       "        [  22.32666 ,  114.260438],\n",
       "        [  22.325501,  114.260816],\n",
       "        [  22.326491,  114.261767],\n",
       "        [  22.327062,  114.258723],\n",
       "        [  22.324908,  114.259917],\n",
       "        [  22.326339,  114.259307],\n",
       "        [  22.329873,  114.254995],\n",
       "        [  22.327774,  114.258974],\n",
       "        [  22.325601,  114.261219],\n",
       "        [  22.32685 ,  114.260007],\n",
       "        [  22.328725,  114.259261],\n",
       "        [  22.32665 ,  114.260295],\n",
       "        [  22.32678 ,  114.259109],\n",
       "        [  22.327934,  114.25918 ],\n",
       "        [  22.325692,  114.25919 ],\n",
       "        [  22.327478,  114.259235],\n",
       "        [  22.328124,  114.259998],\n",
       "        [  22.327285,  114.259666],\n",
       "        [  22.326412,  114.26077 ],\n",
       "        [  22.324404,  114.259226],\n",
       "        [  22.326499,  114.259747],\n",
       "        [  22.326897,  114.259702],\n",
       "        [  22.326652,  114.26051 ],\n",
       "        [  22.326763,  114.2591  ],\n",
       "        [  22.328616,  114.259333],\n",
       "        [  22.327009,  114.259135],\n",
       "        [  22.325293,  114.259656],\n",
       "        [  22.326703,  114.26148 ],\n",
       "        [  22.327476,  114.260887],\n",
       "        [  22.326683,  114.260178],\n",
       "        [  22.325873,  114.260025],\n",
       "        [  22.326021,  114.259773],\n",
       "        [  22.330137,  114.271684],\n",
       "        [  22.327747,  114.259666],\n",
       "        [  22.32663 ,  114.259917],\n",
       "        [  22.325356,  114.259665],\n",
       "        [  22.332427,  114.271569],\n",
       "        [  22.328334,  114.259765],\n",
       "        [  22.32826 ,  114.258534],\n",
       "        [  22.325887,  114.260205],\n",
       "        [  22.327511,  114.260861],\n",
       "        [  22.325976,  114.260061],\n",
       "        [  22.324648,  114.262522],\n",
       "        [  22.32682 ,  114.259001],\n",
       "        [  22.328233,  114.257573],\n",
       "        [  22.326425,  114.25936 ],\n",
       "        [  22.324323,  114.259271],\n",
       "        [  22.345495,  114.271745],\n",
       "        [  22.326272,  114.259369],\n",
       "        [  22.326926,  114.260384],\n",
       "        [  22.325829,  114.259064],\n",
       "        [  22.327035,  114.259621],\n",
       "        [  22.327403,  114.260304],\n",
       "        [  22.32602 ,  114.259307],\n",
       "        [  22.328006,  114.257915],\n",
       "        [  22.326941,  114.258902],\n",
       "        [  22.326178,  114.259719],\n",
       "        [  22.325066,  114.259881],\n",
       "        [  22.327026,  114.259773],\n",
       "        [  22.328262,  114.258839],\n",
       "        [  22.325733,  114.259576],\n",
       "        [  22.326863,  114.260474],\n",
       "        [  22.3272  ,  114.259405],\n",
       "        [  22.325239,  114.259665],\n",
       "        [  22.32661 ,  114.258867],\n",
       "        [  22.326836,  114.260474],\n",
       "        [  22.326965,  114.259307],\n",
       "        [  22.327682,  114.258876],\n",
       "        [  22.326395,  114.259253],\n",
       "        [  22.328391,  114.259262],\n",
       "        [  22.326454,  114.259073],\n",
       "        [  22.32651 ,  114.260941],\n",
       "        [  22.326178,  114.261552],\n",
       "        [  22.327906,  114.259746],\n",
       "        [  22.327461,  114.260744],\n",
       "        [  22.328479,  114.259252],\n",
       "        [  22.325658,  114.259145],\n",
       "        [  22.327973,  114.259989],\n",
       "        [  22.326891,  114.25884 ],\n",
       "        [  22.326271,  114.261489],\n",
       "        [  22.326677,  114.260474],\n",
       "        [  22.325723,  114.25936 ],\n",
       "        [  22.324362,  114.261309],\n",
       "        [  22.325201,  114.259909],\n",
       "        [  22.325054,  114.259504],\n",
       "        [  22.32641 ,  114.259315],\n",
       "        [  22.32508 ,  114.259037],\n",
       "        [  22.326475,  114.260582]])"
      ]
     },
     "execution_count": 21,
     "metadata": {},
     "output_type": "execute_result"
    }
   ],
   "source": [
    "dataSet[nonzero(clusterAssment[:, 0].A == i)[0], :]\n",
    "#clusterAssment[:, 0].A"
   ]
  },
  {
   "cell_type": "code",
   "execution_count": 26,
   "metadata": {
    "collapsed": false
   },
   "outputs": [
    {
     "name": "stdout",
     "output_type": "stream",
     "text": [
      "[[-27, -18, 0], [0, 0, 0], [1, 0, 142], [2, 0, 182], [3, 0, 190], [6, 6, 206], [8, 0, 214], [10, 0, 230], [11, 0, 239], [13, 0, 255], [14, 0, 262], [15, 0, 286], [16, 0, 342], [17, 0, 350], [19, 0, 366], [20, 0, 374], [23, 0, 382], [26, 0, 389], [32, 0, 398], [35, 0, 407], [35, 0, 409], [39, 0, 413], [39, 0, 422], [44, 0, 423], [48, 0, 430], [53, 0, 438], [57, -1, 446], [61, -1, 454], [68, -1, 462], [70, -1, 470], [73, -1, 478], [75, -1, 486], [77, -1, 494], [78, -1, 502], [79, -1, 606], [82, -1, 614], [83, -1, 628], [85, -1, 633], [87, -1, 637], [90, -1, 646], [93, -1, 654], [97, -1, 662], [100, -1, 670], [101, -1, 678], [103, -1, 686], [104, -1, 766], [105, -1, 789], [106, -1, 797], [107, -1, 806], [108, -1, 814], [109, -1, 822], [110, -1, 830], [111, -1, 838], [112, -1, 846], [113, -1, 854], [114, -1, 862], [116, -1, 872], [118, -1, 878], [120, -1, 888], [122, 0, 894], [126, 0, 902], [127, 0, 910], [128, 0, 918], [129, 0, 926], [130, 0, 934], [130, 0, 1416]]\n"
     ]
    }
   ],
   "source": [
    "a = [[-27,-18,0],[0,0,0],[1,0,142,],[2,0,182],[3,0,190,],[6,6,206,],\n",
    "[8,0,214],[10,0,230],[11,0,239],[13,0,255],[14,0,262],[15,0,286],[16,0,342],\n",
    "[17,0,350],[19,0,366],[20,0,374],[23,0,382],[26,0,389],[32,0,398],[35,0,407],\n",
    "[35,0,409],[39,0,413],[39,0,422],[44,0,423],[48,0,430],[53,0,438],[57,-1,446],\n",
    "[61,-1,454],[68,-1,462],[70,-1,470],[73,-1,478],[75,-1,486],[77,-1,494],[78,-1,502],\n",
    "[79,-1,606],[82,-1,614],[83,-1,628],[85,-1,633],[87,-1,637],\n",
    "[90,-1,646],[93,-1,654],[97,-1,662],[100,-1,670],[101,-1,678],[103,-1,686],\n",
    "[104,-1,766],[105,-1,789],[106,-1,797],[107,-1,806],[108,-1,814],[109,-1,822],\n",
    "[110,-1,830],[111,-1,838],[112,-1,846],[113,-1,854],[114,-1,862],[116,-1,872],\n",
    "[118,-1,878],[120,-1,888],[122,0,894],[126,0,902],[127,0,910],[128,0,918],\n",
    "[129,0,926],[130,0,934],[130,0,1416]\n",
    "]\n",
    "print a"
   ]
  },
  {
   "cell_type": "code",
   "execution_count": 29,
   "metadata": {
    "collapsed": true
   },
   "outputs": [],
   "source": [
    "b =    [[-27, -18, 0], [0, 0, 0], [1, 0, 142], [2, 0, 182], [3, 0, 190], [6, 0, 206], [8, 0, 214], [10, 0, 230], [11, 0, 239],\n",
    "                       [13, 0, 255], [14, 0, 262], [15, 0, 286], [16, 0, 342], [17, 0, 350], [19, 0, 366], [20, 0, 374], [23, 0, 382], [26, 0, 389],\n",
    "                       [32, 0, 398], [35, 0, 407], [35, 0, 409], [39, 0, 413], [39, 0, 422], [44, 0, 423], [48, 0, 430], [53, 0, 438], [57, -1, 446],\n",
    "                       [61, -1, 454], [68, -1, 462], [70, -1, 470], [73, -1, 478], [75, -1, 486], [77, -1, 494], [78, -1, 502], [79, -1, 510],[80,-1,517],[81,-1,606],\n",
    "                       [82, -1, 614], [83, -1, 628], [85, -1, 633], [87, -1, 637], [90, -1, 646], [93, -1, 654], [97, -1, 662], [100, -1, 670],\n",
    "                       [101, -1, 678], [103, -1, 686], [104, -1, 766], [105, -1, 789], [106, -1, 797], [107, -1, 806], [108, -1, 814], \n",
    "                       [109, -1, 822], [110, -1, 830], [111, -1, 838], [112, -1, 846], [113, -1, 854], [114, -1, 862], [116, -1, 872],\n",
    "                       [118, -1, 878], [120, -1, 888], [122, 0, 894], [126, 0, 902], [127, 0, 910], [128, 0, 918], [129, 0, 926],\n",
    "                       [130, 0, 934], [130, 0, 1416]]"
   ]
  },
  {
   "cell_type": "code",
   "execution_count": 32,
   "metadata": {
    "collapsed": false
   },
   "outputs": [
    {
     "name": "stdout",
     "output_type": "stream",
     "text": [
      "68\n"
     ]
    }
   ],
   "source": [
    "print len(b)"
   ]
  },
  {
   "cell_type": "code",
   "execution_count": 77,
   "metadata": {
    "collapsed": false
   },
   "outputs": [
    {
     "ename": "IndexError",
     "evalue": "string index out of range",
     "output_type": "error",
     "traceback": [
      "\u001b[0;31m---------------------------------------------------------------------------\u001b[0m",
      "\u001b[0;31mIndexError\u001b[0m                                Traceback (most recent call last)",
      "\u001b[0;32m<ipython-input-77-153423b3a6f8>\u001b[0m in \u001b[0;36m<module>\u001b[0;34m()\u001b[0m\n\u001b[1;32m      4\u001b[0m     \u001b[0;31m#print \"[\",i[0]-temp_x,\",\",i[1],\",\",i[2]-temp_t,\"],\"\u001b[0m\u001b[0;34m\u001b[0m\u001b[0;34m\u001b[0m\u001b[0m\n\u001b[1;32m      5\u001b[0m     \u001b[0mtemp_x\u001b[0m \u001b[0;34m=\u001b[0m \u001b[0mi\u001b[0m\u001b[0;34m[\u001b[0m\u001b[0;36m0\u001b[0m\u001b[0;34m]\u001b[0m\u001b[0;34m\u001b[0m\u001b[0m\n\u001b[0;32m----> 6\u001b[0;31m     \u001b[0mtemp_t\u001b[0m \u001b[0;34m=\u001b[0m \u001b[0mi\u001b[0m\u001b[0;34m[\u001b[0m\u001b[0;36m2\u001b[0m\u001b[0;34m]\u001b[0m\u001b[0;34m\u001b[0m\u001b[0m\n\u001b[0m",
      "\u001b[0;31mIndexError\u001b[0m: string index out of range"
     ]
    }
   ],
   "source": [
    "temp_x = 0\n",
    "temp_t = 0\n",
    "for i in b:\n",
    "    #print \"[\",i[0]-temp_x,\",\",i[1],\",\",i[2]-temp_t,\"],\"\n",
    "    temp_x = i[0]\n",
    "    temp_t = i[2]"
   ]
  },
  {
   "cell_type": "code",
   "execution_count": 45,
   "metadata": {
    "collapsed": true
   },
   "outputs": [],
   "source": [
    "dx = 'S)(---(..0,.-,,('"
   ]
  },
  {
   "cell_type": "code",
   "execution_count": 46,
   "metadata": {
    "collapsed": true
   },
   "outputs": [],
   "source": [
    "dy = 'Ow~sswvtst*y*(~s(t(,(t(*yyt*yt((*tst*tvstsswstssstssstssssssssssssssyssstvsstssstuss('"
   ]
  },
  {
   "cell_type": "code",
   "execution_count": 56,
   "metadata": {
    "collapsed": false
   },
   "outputs": [
    {
     "data": {
      "text/plain": [
       "str"
      ]
     },
     "execution_count": 56,
     "metadata": {},
     "output_type": "execute_result"
    }
   ],
   "source": [
    "b = '()*,-./0123456789:?@ABCDEFGHIJKLMNOPQRSTUVWXYZ_abcdefghijklmnopqr'\n",
    "type(b)"
   ]
  },
  {
   "cell_type": "code",
   "execution_count": 48,
   "metadata": {
    "collapsed": true
   },
   "outputs": [],
   "source": [
    "d = [[1,0],[2,0],[1,-1],[1,1],[0,1],[0,-1],[3,0],[2,-1],[2,1]]\n",
    "c = 'stuvwxyz~'"
   ]
  },
  {
   "cell_type": "code",
   "execution_count": 54,
   "metadata": {
    "collapsed": false
   },
   "outputs": [
    {
     "name": "stdout",
     "output_type": "stream",
     "text": [
      "16\n"
     ]
    }
   ],
   "source": [
    "print len(dx)\n",
    "k = 0"
   ]
  },
  {
   "cell_type": "code",
   "execution_count": 62,
   "metadata": {
    "collapsed": false
   },
   "outputs": [],
   "source": [
    "for i in dy:\n",
    "    if i not in c:\n",
    "        #print i\n",
    "        k += 1"
   ]
  },
  {
   "cell_type": "code",
   "execution_count": 53,
   "metadata": {
    "collapsed": false
   },
   "outputs": [
    {
     "data": {
      "text/plain": [
       "16"
      ]
     },
     "execution_count": 53,
     "metadata": {},
     "output_type": "execute_result"
    }
   ],
   "source": [
    "k"
   ]
  },
  {
   "cell_type": "code",
   "execution_count": 61,
   "metadata": {
    "collapsed": false,
    "scrolled": true
   },
   "outputs": [
    {
     "name": "stdout",
     "output_type": "stream",
     "text": [
      "S ) ( - - - ( . . 0 , . - , , ( \n",
      "38 1 0 4 4 4 0 5 5 7 3 5 4 3 3 0\n"
     ]
    }
   ],
   "source": [
    "for i in dx:\n",
    "    print i,\n",
    "print ''\n",
    "for i in dx:\n",
    "    print b.find(i),"
   ]
  },
  {
   "cell_type": "code",
   "execution_count": 63,
   "metadata": {
    "collapsed": true
   },
   "outputs": [],
   "source": [
    "def replace(a2):\n",
    "    b = [[1,0],[2,0],[1,-1],[1,1],[0,1],[0,-1],[3,0],[2,-1],[2,1]]\n",
    "    c = 'stuvwxyz~'\n",
    "    for d in range(len(b)):\n",
    "        if(int(a2[0]) == b[d][0] and int(a2[1]) == b[d][1]):\n",
    "            print 'a2',a2[0],a2[1]\n",
    "            return c[d];\n",
    "    return 0"
   ]
  },
  {
   "cell_type": "code",
   "execution_count": 105,
   "metadata": {
    "collapsed": false,
    "scrolled": true
   },
   "outputs": [
    {
     "name": "stdout",
     "output_type": "stream",
     "text": [
      "[ 38 , 34 , 0 ],\n",
      "[ 0 , 1 , 108 ],\n",
      "[2,1 , 12 ],\n",
      "[ 1 , 0 , 5 ],\n",
      "[ 1 , 0 , 3 ],\n",
      "[ 0 , 1 , 2 ],\n",
      "[ 1 , 1 , 2 ],\n",
      "[ 2 , 0 , 4 ],\n",
      "[ 1 , 0 , 0 ],\n",
      "[ 2 , 0 , 2 ],\n",
      "[ 1 , 2 , 3 ],\n",
      "[ 3 , 0 , 2 ],\n",
      "[ 0 , 2 , 1 ],\n",
      "[ 4 , 0 , 4 ],\n",
      "[2,1 , 4 ],\n",
      "[ 1 , 0 , 1 ],\n",
      "[ 4 , 0 , 2 ],\n",
      "[ 2 , 0 , 2 ],\n",
      "[ 4 , 0 , 2 ],\n",
      "[ 0 , 3 , 1 ],\n",
      "[ 5 , 0 , 2 ],\n",
      "[ 2 , 0 , 2 ],\n",
      "[ 5 , 0 , 3 ],\n",
      "[ 7 , 2 , 5 ],\n",
      "[ 3 , 0 , 2 ],\n",
      "[ 3 , 0 , 2 ],\n",
      "[ 2 , 0 , 1 ],\n",
      "[ 3 , 2 , 1 ],\n",
      "[ 3 , 0 , 2 ],\n",
      "[ 2 , 0 , 2 ],\n",
      "[ 5 , 0 , 3 ],\n",
      "[ 4 , 0 , 3 ],\n",
      "[ 3 , 2 , 3 ],\n",
      "[ 2 , 0 , 2 ],\n",
      "[ 1 , 0 , 1 ],\n",
      "[ 2 , 0 , 2 ],\n",
      "[ 3 , 2 , 2 ],\n",
      "[ 2 , 0 , 4 ],\n",
      "[ 1 , 1 , 3 ],\n",
      "[ 1 , 0 , 4 ],\n",
      "[ 2 , 0 , 3 ],\n",
      "[ 1 , 0 , 2 ],\n",
      "[ 1 , 0 , 6 ],\n",
      "[ 0 , 1 , 15 ],\n",
      "[ 1 , 0 , 1 ],\n",
      "[ 2 , 0 , 15 ],\n",
      "[ 1 , 0 , 8 ],\n",
      "[ 1 , 0 , 6 ],\n",
      "[ 1 , 0 , 3 ],\n",
      "[ 2 , 0 , 2 ],\n",
      "[ 1 , 0 , 6 ],\n",
      "[ 1 , 0 , 2 ],\n",
      "[ 1 , 0 , 6 ],\n",
      "[ 2 , 0 , 1 ],\n",
      "[ 1 , 0 , 1 ],\n",
      "[ 1 , 0 , 5 ],\n",
      "[ 1 , 0 , 2 ],\n",
      "[ 1 , 0 , 1 ],\n",
      "[ 1 , 0 , 2 ],\n",
      "[ 1 , 0 , 2 ],\n",
      "[ 1 , 0 , 4 ],\n",
      "[ 1 , 0 , 0 ],\n",
      "[ 1 , 0 , 3 ],\n",
      "[ 1 , 0 , 2 ],\n",
      "[ 1 , 0 , 2 ],\n",
      "[ 1 , 0 , 1 ],\n",
      "[ 1 , 0 , 2 ],\n",
      "[ 1 , 0 , 2 ],\n",
      "[ 3 , 0 , 4 ],\n",
      "[ 1 , 0 , 6 ],\n",
      "[ 1 , 0 , 1 ],\n",
      "[ 1 , 0 , 3 ],\n",
      "[ 2 , 0 , 7 ],\n",
      "[ 1 , 1 , 1 ],\n",
      "[ 1 , 0 , 2 ],\n",
      "[ 1 , 0 , 5 ],\n",
      "[ 2 , 0 , 7 ],\n",
      "[ 1 , 0 , 5 ],\n",
      "[ 1 , 0 , 335 ],\n",
      "[ 1 , 0 , 10 ],\n",
      "[ 2 , 0 , 5 ],\n",
      "[ 1 , -1 , 11 ],\n",
      "[ 1 , 0 , 12 ],\n",
      "[ 1 , 0 , 24 ],\n",
      "[ 0 , 0 , 353 ],\n"
     ]
    }
   ],
   "source": [
    "e = [[1,0],[2,0],[1,-1],[1,1],[0,1],[0,-1],[3,0],[2,-1],[2,1]]\n",
    "time_list = [0, 108, 12, 5, 3, 2, 2, 4, 0, 2, 3, 2, 1, 4, 4, 1, 2, 2, 2, 1, 2, 2, 3, 5, 2, 2, 1, 1, 2, 2, 3, 3, 3, 2, 1, 2, 2, 4, 3, 4, 3, 2, 6, 15, 1, 15, 8, 6, 3, 2, 6, 2, 6, 1, 1, 5, 2, 1, 2, 2, 4, 0, 3, 2, 2, 1, 2, 2, 4, 6, 1, 3, 7, 1, 2, 5, 7, 5, 335, 10, 5, 11, 12, 24, 353]\n",
    "temp_i = 0\n",
    "k = 0\n",
    "for i in dy:\n",
    "    if i in c:\n",
    "        #print i\n",
    "        if( i == '~' ):\n",
    "            print '[2,1',',',time_list[k],'],'\n",
    "        else :\n",
    "            print '[' , e[ord(i)-ord('s')][0],',',e[ord(i)-ord('s')][1],',',time_list[k] ,'],'\n",
    "    else :\n",
    "            print '[',b.find(dx[temp_i]),',',b.find(i),',',time_list[k],'],'\n",
    "            temp_i += 1 \n",
    "    k +=1 "
   ]
  },
  {
   "cell_type": "code",
   "execution_count": 66,
   "metadata": {
    "collapsed": false
   },
   "outputs": [
    {
     "data": {
      "text/plain": [
       "1"
      ]
     },
     "execution_count": 66,
     "metadata": {},
     "output_type": "execute_result"
    }
   ],
   "source": [
    "ord('t')-ord('s')"
   ]
  },
  {
   "cell_type": "code",
   "execution_count": 91,
   "metadata": {
    "collapsed": false
   },
   "outputs": [
    {
     "data": {
      "text/plain": [
       "91"
      ]
     },
     "execution_count": 91,
     "metadata": {},
     "output_type": "execute_result"
    }
   ],
   "source": [
    "time_mouse ='\n",
    "($)X5.,**-(*,*)--)***)**,.**))**,,,*)**-,-,*/8)81/,*/*/)).*)**-(,**)**-/),0)*.0.$.33.45E$.I'\n",
    "($)X5.,**-(*,*)--)***)**,.**))**,,,*)**-,-,*/8)81/,*/*/)).*)**-(,**)**-/),0)*.0.$.33.45\n",
    "\n",
    "len(time_mouse)"
   ]
  },
  {
   "cell_type": "code",
   "execution_count": 84,
   "metadata": {
    "collapsed": false
   },
   "outputs": [],
   "source": [
    "#print time_mouse\n",
    "b = '()*,-./0123456789:?@ABCDEFGHIJKLMNOPQRSTUVWXYZ_abcdefghijklmnopqr'"
   ]
  },
  {
   "cell_type": "code",
   "execution_count": 99,
   "metadata": {
    "collapsed": false
   },
   "outputs": [
    {
     "name": "stdout",
     "output_type": "stream",
     "text": [
      "[0, 108, 12, 5, 3, 2, 2, 4, 0, 2, 3, 2, 1, 4, 4, 1, 2, 2, 2, 1, 2, 2, 3, 5, 2, 2, 1, 1, 2, 2, 3, 3, 3, 2, 1, 2, 2, 4, 3, 4, 3, 2, 6, 15, 1, 15, 8, 6, 3, 2, 6, 2, 6, 1, 1, 5, 2, 1, 2, 2, 4, 0, 3, 2, 2, 1, 2, 2, 4, 6, 1, 3, 7, 1, 2, 5, 7, 5, 335, 10, 5, 11, 12, 24, 353]\n",
      "85\n",
      "85\n"
     ]
    }
   ],
   "source": [
    "temp_num = 0\n",
    "i = 0\n",
    "time_list = []\n",
    "while(i < len(time_mouse)):\n",
    "    \n",
    "    if(time_mouse[i] == '$'):\n",
    "        time_list.append(b.find(time_mouse[i+1])*65 + int(b.find(time_mouse[i+2])) )\n",
    "        i += 3\n",
    "    else :\n",
    "        time_list.append(b.find(time_mouse[i]))\n",
    "        i += 1\n",
    "print time_list\n",
    "print len(time_list)\n",
    "print len(dy)"
   ]
  }
 ],
 "metadata": {
  "anaconda-cloud": {},
  "kernelspec": {
   "display_name": "Python [conda root]",
   "language": "python",
   "name": "conda-root-py"
  },
  "language_info": {
   "codemirror_mode": {
    "name": "ipython",
    "version": 2
   },
   "file_extension": ".py",
   "mimetype": "text/x-python",
   "name": "python",
   "nbconvert_exporter": "python",
   "pygments_lexer": "ipython2",
   "version": "2.7.12"
  }
 },
 "nbformat": 4,
 "nbformat_minor": 1
}
